{
 "cells": [
  {
   "cell_type": "code",
   "execution_count": 1,
   "metadata": {},
   "outputs": [],
   "source": [
    "import cv2\n",
    "import matplotlib.pyplot as plt\n",
    "import matplotlib.patches as patches\n",
    "import numpy as np"
   ]
  },
  {
   "cell_type": "code",
   "execution_count": 2,
   "metadata": {},
   "outputs": [],
   "source": [
    "import sys\n",
    "sys.path.append(\"../common\")\n",
    "import functions"
   ]
  },
  {
   "cell_type": "markdown",
   "metadata": {},
   "source": [
    "# Q61 4-連結数\n",
    "\n",
    "renketsu.pngを4-連結数により、色分けせよ。"
   ]
  },
  {
   "cell_type": "code",
   "execution_count": 3,
   "metadata": {},
   "outputs": [
    {
     "name": "stderr",
     "output_type": "stream",
     "text": [
      "<ipython-input-3-200939571201>:5: DeprecationWarning: `np.int` is a deprecated alias for the builtin `int`. To silence this warning, use `int` by itself. Doing this will not modify any behavior and is safe. When replacing `np.int`, you may wish to use e.g. `np.int64` or `np.int32` to specify the precision. If you wish to review your current use, check the release note link for additional information.\n",
      "Deprecated in NumPy 1.20; for more details and guidance: https://numpy.org/devdocs/release/1.20.0-notes.html#deprecations\n",
      "  tmp = np.zeros((H, W), dtype=np.int)\n"
     ]
    },
    {
     "data": {
      "text/plain": [
       "<matplotlib.image.AxesImage at 0x140ab5537f0>"
      ]
     },
     "execution_count": 3,
     "metadata": {},
     "output_type": "execute_result"
    },
    {
     "data": {
      "image/png": "[encoded data removed]",
      "text/plain": [
       "<Figure size 432x288 with 1 Axes>"
      ]
     },
     "metadata": {
      "needs_background": "light"
     },
     "output_type": "display_data"
    }
   ],
   "source": [
    "img = cv2.imread(\"renketsu.png\")\n",
    "\n",
    "H,W,C = img.shape\n",
    "\n",
    "tmp = np.zeros((H, W), dtype=np.int)\n",
    "# 二値化\n",
    "tmp[img[..., 0] > 0] = 1\n",
    "\n",
    "out = np.zeros((H, W, 3), dtype=np.uint8)\n",
    "for y in range(H):\n",
    "    for x in range(W):\n",
    "        if tmp[y,x]<1:\n",
    "            continue\n",
    "        \n",
    "        S = 0\n",
    "        S += (tmp[y,min(x+1,W-1)] - tmp[y,min(x+1,W-1)] * tmp[max(y-1,0),min(x+1,W-1)] * tmp[max(y-1,0),x])\n",
    "        S += (tmp[max(y-1,0),x] - tmp[max(y-1,0),x] * tmp[max(y-1,0),max(x-1,0)] * tmp[y,max(x-1,0)])\n",
    "        S += (tmp[y,max(x-1,0)] - tmp[y,max(x-1,0)] * tmp[min(y+1,H-1),max(x-1,0)] * tmp[min(y+1,H-1),x])\n",
    "        S += (tmp[min(y+1,H-1),x] - tmp[min(y+1,H-1),x] * tmp[min(y+1,H-1),min(x+1,W-1)] * tmp[y,min(x+1,W-1)])\n",
    "        \n",
    "        if S == 0:\n",
    "            out[y,x] = [0, 0, 255]\n",
    "        elif S == 1:\n",
    "            out[y,x] = [0, 255, 0]\n",
    "        elif S == 2:\n",
    "            out[y,x] = [255, 0, 0]\n",
    "        elif S == 3:\n",
    "            out[y,x] = [255, 255, 0]\n",
    "        elif S == 4:\n",
    "            out[y,x] = [255, 0, 255]\n",
    "                    \n",
    "out = out.astype(np.uint8)\n",
    "\n",
    "plt.imshow(cv2.cvtColor(out, cv2.COLOR_BGR2RGB))"
   ]
  },
  {
   "cell_type": "markdown",
   "metadata": {},
   "source": [
    "# Q63 細線化処理 \n",
    "\n",
    "gazo.png を細線化せよ。\n",
    "\n",
    "細線化とは画素の幅を1にする処理であり、ここでは次のアルゴリズムに沿って処理を行え。\n",
    "\n",
    "1. 左上からラスタスキャンする。\n",
    "2. x0(x,y)=0ならば、処理なし。x0(x,y)=1ならば次の3条件を満たす時にx0=0に変える。 (1) 注目画素の4近傍に0が一つ以上存在する 3. (2) x0の4-連結数が1である (3) x0の8近傍に1が3つ以上存在する\n",
    "4. 一回のラスタスキャンで2の変更数が0になるまで、ラスタスキャンを繰り返す。"
   ]
  },
  {
   "cell_type": "code",
   "execution_count": 8,
   "metadata": {},
   "outputs": [
    {
     "name": "stderr",
     "output_type": "stream",
     "text": [
      "<ipython-input-8-33d5ce8b7ecb>:4: DeprecationWarning: `np.int` is a deprecated alias for the builtin `int`. To silence this warning, use `int` by itself. Doing this will not modify any behavior and is safe. When replacing `np.int`, you may wish to use e.g. `np.int64` or `np.int32` to specify the precision. If you wish to review your current use, check the release note link for additional information.\n",
      "Deprecated in NumPy 1.20; for more details and guidance: https://numpy.org/devdocs/release/1.20.0-notes.html#deprecations\n",
      "  out = np.zeros((H,W),dtype=np.int)\n"
     ]
    },
    {
     "data": {
      "text/plain": [
       "<matplotlib.image.AxesImage at 0x140ab666940>"
      ]
     },
     "execution_count": 8,
     "metadata": {},
     "output_type": "execute_result"
    },
    {
     "data": {
      "image/png": "[encoded data removed]",
      "text/plain": [
       "<Figure size 432x288 with 1 Axes>"
      ]
     },
     "metadata": {
      "needs_background": "light"
     },
     "output_type": "display_data"
    }
   ],
   "source": [
    "img = cv2.imread(\"gazo.png\")\n",
    "\n",
    "H,W,C = img.shape\n",
    "out = np.zeros((H,W),dtype=np.int)\n",
    "# 画像を0or1で表す\n",
    "out[img[...,0]>0]=1\n",
    "\n",
    "cnt=1\n",
    "while(cnt>0):\n",
    "    cnt = 0\n",
    "    tmp = out.copy()\n",
    "    for y in range(H):\n",
    "        for x in range(W):\n",
    "            if out[y,x]<1:\n",
    "                continue\n",
    "            \n",
    "            c = tmp[max(y-1,0),x]+tmp[y,max(x-1,0)]+tmp[y,min(x+1,W-1)]+tmp[min(y+1,H-1),x]\n",
    "            # 4連結数\n",
    "            S = 0\n",
    "            S += (tmp[y,min(x+1,W-1)] - tmp[y,min(x+1,W-1)] * tmp[max(y-1,0),min(x+1,W-1)] * tmp[max(y-1,0),x])\n",
    "            S += (tmp[max(y-1,0),x] - tmp[max(y-1,0),x] * tmp[max(y-1,0),max(x-1,0)] * tmp[y,max(x-1,0)])\n",
    "            S += (tmp[y,max(x-1,0)] - tmp[y,max(x-1,0)] * tmp[min(y+1,H-1),max(x-1,0)] * tmp[min(y+1,H-1),x])\n",
    "            S += (tmp[min(y+1,H-1),x] - tmp[min(y+1,H-1),x] * tmp[min(y+1,H-1),min(x+1,W-1)] * tmp[y,min(x+1,W-1)])\n",
    "            \n",
    "            v = np.sum(tmp[max(y-1, 0) : min(y+2, H), max(x-1, 0) : min(x+2, W)])\n",
    "            \n",
    "            # 条件(1)\n",
    "            if c<4:\n",
    "                # 条件(2)\n",
    "                if S==1:\n",
    "                    # 条件(3)\n",
    "                        if v>=4:\n",
    "                            out[y,x]=0\n",
    "                            cnt+=1\n",
    "\n",
    "out = out.astype(np.uint8) * 255\n",
    "plt.imshow(cv2.cvtColor(out, cv2.COLOR_BGR2RGB))                        "
   ]
  },
  {
   "cell_type": "markdown",
   "metadata": {},
   "source": [
    "# Q64 ヒルディッチの細線化\n",
    "\n",
    "gazo.png にヒルディッチの細線化を行え。"
   ]
  },
  {
   "cell_type": "code",
   "execution_count": 13,
   "metadata": {},
   "outputs": [
    {
     "name": "stderr",
     "output_type": "stream",
     "text": [
      "<ipython-input-13-291001ffb032>:4: DeprecationWarning: `np.int` is a deprecated alias for the builtin `int`. To silence this warning, use `int` by itself. Doing this will not modify any behavior and is safe. When replacing `np.int`, you may wish to use e.g. `np.int64` or `np.int32` to specify the precision. If you wish to review your current use, check the release note link for additional information.\n",
      "Deprecated in NumPy 1.20; for more details and guidance: https://numpy.org/devdocs/release/1.20.0-notes.html#deprecations\n",
      "  out = np.zeros((H,W),dtype=np.int)\n"
     ]
    },
    {
     "data": {
      "text/plain": [
       "<matplotlib.image.AxesImage at 0x140ab8ccf10>"
      ]
     },
     "execution_count": 13,
     "metadata": {},
     "output_type": "execute_result"
    },
    {
     "data": {
      "image/png": "[encoded data removed]",
      "text/plain": [
       "<Figure size 432x288 with 1 Axes>"
      ]
     },
     "metadata": {
      "needs_background": "light"
     },
     "output_type": "display_data"
    }
   ],
   "source": [
    "img = cv2.imread(\"gazo.png\")\n",
    "\n",
    "H,W,C = img.shape\n",
    "out = np.zeros((H,W),dtype=np.int)\n",
    "# 画像を0or1で表す\n",
    "out[img[...,0]>0]=1\n",
    "\n",
    "cnt=1\n",
    "while(cnt>0):\n",
    "    cnt = 0\n",
    "    tmp = out.copy()\n",
    "    for y in range(H):\n",
    "        for x in range(W):\n",
    "            judge=0\n",
    "            if out[y,x]<1:\n",
    "                continue\n",
    "            \n",
    "            # 4近傍の1の数をカウント\n",
    "            v = tmp[max(y-1,0),x]+tmp[y,max(x-1,0)]+tmp[y,min(x+1,W-1)]+tmp[min(y+1,H-1),x]\n",
    "            \n",
    "            # 8連結数\n",
    "            S = 0\n",
    "            S += (tmp[y,min(x+1,W-1)] - tmp[y,min(x+1,W-1)] * tmp[max(y-1,0),min(x+1,W-1)] * tmp[max(y-1,0),x])\n",
    "            S += (tmp[max(y-1,0),x] - tmp[max(y-1,0),x] * tmp[max(y-1,0),max(x-1,0)] * tmp[y,max(x-1,0)])\n",
    "            S += (tmp[y,max(x-1,0)] - tmp[y,max(x-1,0)] * tmp[min(y+1,H-1),max(x-1,0)] * tmp[min(y+1,H-1),x])\n",
    "            S += (tmp[min(y+1,H-1),x] - tmp[min(y+1,H-1),x] * tmp[min(y+1,H-1),min(x+1,W-1)] * tmp[y,min(x+1,W-1)])\n",
    "            \n",
    "            # x1~x8の絶対値の和\n",
    "            t = np.sum(tmp[max(y-1, 0) : min(y+2, H), max(x-1, 0) : min(x+2, W)])\n",
    "            \n",
    "            # 8近傍の1の数をカウント\n",
    "            u = np.sum(tmp[max(y-1, 0) : min(y+2, H), max(x-1, 0) : min(x+2, W)])\n",
    "            \n",
    "            _tmp2 = 1 - out\n",
    "\n",
    "            c = 0\n",
    "            c += (_tmp2[y, min(x+1, W-1)] - _tmp2[y, min(x+1, W-1)] * _tmp2[max(y-1, 0), min(x+1, W-1)] * _tmp2[max(y-1, 0), x])\n",
    "            c += (_tmp2[max(y-1, 0), x] - _tmp2[max(y-1, 0), x] * (1 - tmp[max(y-1, 0), max(x-1, 0)]) * _tmp2[y, max(x-1, 0)])\n",
    "            c += (_tmp2[y, max(x-1, 0)] - _tmp2[y, max(x-1, 0)] * _tmp2[min(y+1, H-1), max(x-1, 0)] * _tmp2[min(y+1, H-1), x])\n",
    "            c += (_tmp2[min(y+1, H-1), x] - _tmp2[min(y+1, H-1), x] * _tmp2[min(y+1, H-1), min(x+1, W-1)] * _tmp2[y, min(x+1, W-1)])\n",
    "            if c == 1 or (out[max(y-1, 0), max(x-1,0 )] != tmp[max(y-1, 0), max(x-1, 0)]):\n",
    "                judge += 1\n",
    "\n",
    "            c = 0\n",
    "            c += (_tmp2[y, min(x+1, W-1)] - _tmp2[y, min(x+1, W-1)] * _tmp2[max(y-1, 0), min(x+1, W-1)] * (1 - tmp[max(y-1, 0), x]))\n",
    "            c += ((1-tmp[max(y-1, 0), x]) - (1 - tmp[max(y-1, 0), x]) * _tmp2[max(y-1, 0), max(x-1, 0)] * _tmp2[y, max(x-1, 0)])\n",
    "            c += (_tmp2[y, max(x-1,0 )] - _tmp2[y, max(x-1,0 )] * _tmp2[min(y+1, H-1), max(x-1, 0)] * _tmp2[min(y+1, H-1), x])\n",
    "            c += (_tmp2[min(y+1, H-1), x] - _tmp2[min(y+1, H-1), x] * _tmp2[min(y+1, H-1), min(x+1, W-1)] * _tmp2[y, min(x+1, W-1)])\n",
    "            if c == 1 or (out[max(y-1, 0), x] != tmp[max(y-1, 0), x]):\n",
    "                judge += 1\n",
    "\n",
    "            c = 0\n",
    "            c += (_tmp2[y, min(x+1, W-1)] - _tmp2[y, min(x+1, W-1)] * (1 - tmp[max(y-1, 0), min(x+1, W-1)]) * _tmp2[max(y-1, 0), x])\n",
    "            c += (_tmp2[max(y-1, 0), x] - _tmp2[max(y-1, 0), x] * _tmp2[max(y-1, 0), max(x-1, 0)] * _tmp2[y, max(x-1, 0)])\n",
    "            c += (_tmp2[y, max(x-1, 0)] - _tmp2[y, max(x-1, 0)] * _tmp2[min(y+1, H-1), max(x-1, 0)] * _tmp2[min(y+1, H-1), x])\n",
    "            c += (_tmp2[min(y+1, H-1), x] - _tmp2[min(y+1, H-1), x] * _tmp2[min(y+1, H-1), min(x+1, W-1)] * _tmp2[y, min(x+1, W-1)])\n",
    "            if c == 1 or (out[max(y-1, 0), min(x+1, W-1)] != tmp[max(y-1, 0), min(x+1, W-1)]):\n",
    "                judge += 1\n",
    "\n",
    "            c = 0\n",
    "            c += (_tmp2[y, min(x+1, W-1)] - _tmp2[y, min(x+1, W-1)] * _tmp2[max(y-1, 0), min(x+1, W-1)] * _tmp2[max(y-1, 0), x])\n",
    "            c += (_tmp2[max(y-1, 0), x] - _tmp2[max(y-1, 0), x] * _tmp2[max(y-1, 0), max(x-1, 0)] * (1 - tmp[y, max(x-1, 0)]))\n",
    "            c += ((1 - tmp[y, max(x-1, 0)]) - (1 - tmp[y, max(x-1, 0)]) * _tmp2[min(y+1, H-1), max(x-1, 0)] * _tmp2[min(y+1, H-1), x])\n",
    "            c += (_tmp2[min(y+1, H-1), x] - _tmp2[min(y+1, H-1), x] * _tmp2[min(y+1, H-1), min(x+1, W-1)] * _tmp2[y, min(x+1, W-1)])\n",
    "            if c == 1 or (out[y, max(x-1, 0)] != tmp[y, max(x-1, 0)]):\n",
    "                judge += 1\n",
    "                    \n",
    "            if v<4:\n",
    "                judge+=1\n",
    "            if S==1:\n",
    "                judge+=1\n",
    "            if t>=3:\n",
    "                judge+=1\n",
    "            if u>=2:\n",
    "                judge+=1\n",
    "                \n",
    "            if judge >= 8:\n",
    "                out[y, x] = 0\n",
    "                cnt += 1\n",
    "\n",
    "out = out.astype(np.uint8) * 255\n",
    "plt.imshow(cv2.cvtColor(out, cv2.COLOR_BGR2RGB))  "
   ]
  },
  {
   "cell_type": "code",
   "execution_count": null,
   "metadata": {},
   "outputs": [],
   "source": []
  }
 ],
 "metadata": {
  "kernelspec": {
   "display_name": "Python 3",
   "language": "python",
   "name": "python3"
  },
  "language_info": {
   "codemirror_mode": {
    "name": "ipython",
    "version": 3
   },
   "file_extension": ".py",
   "mimetype": "text/x-python",
   "name": "python",
   "nbconvert_exporter": "python",
   "pygments_lexer": "ipython3",
   "version": "3.8.5"
  },
  "toc": {
   "base_numbering": 1,
   "nav_menu": {},
   "number_sections": true,
   "sideBar": true,
   "skip_h1_title": false,
   "title_cell": "Table of Contents",
   "title_sidebar": "Contents",
   "toc_cell": false,
   "toc_position": {},
   "toc_section_display": true,
   "toc_window_display": true
  }
 },
 "nbformat": 4,
 "nbformat_minor": 4
}
